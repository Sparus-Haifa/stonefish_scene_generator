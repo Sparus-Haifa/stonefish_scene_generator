{
 "cells": [
  {
   "cell_type": "markdown",
   "metadata": {},
   "source": [
    "# Deepersense: sim data generator"
   ]
  },
  {
   "cell_type": "markdown",
   "metadata": {},
   "source": [
    "## imports"
   ]
  },
  {
   "cell_type": "code",
   "execution_count": 1,
   "metadata": {},
   "outputs": [],
   "source": [
    "import os\n",
    "# import sys\n",
    "import rospy\n",
    "import rosbag\n",
    "import rospkg\n",
    "import glob"
   ]
  },
  {
   "cell_type": "code",
   "execution_count": 2,
   "metadata": {},
   "outputs": [],
   "source": [
    "from simulation_controller import SimulationController\n",
    "from scene_generator import SceneGenerator, ColorMap\n",
    "from launchfile_maker import LaunchFileMaker"
   ]
  },
  {
   "cell_type": "markdown",
   "metadata": {},
   "source": [
    "## file manager"
   ]
  },
  {
   "cell_type": "markdown",
   "metadata": {},
   "source": [
    "### package path"
   ]
  },
  {
   "cell_type": "code",
   "execution_count": 3,
   "metadata": {},
   "outputs": [],
   "source": [
    "rospack = rospkg.RosPack()\n",
    "package_path = rospack.get_path('stonefish_scene_generator')"
   ]
  },
  {
   "cell_type": "markdown",
   "metadata": {},
   "source": [
    "### iterate files in folder"
   ]
  },
  {
   "cell_type": "code",
   "execution_count": 4,
   "metadata": {},
   "outputs": [
    {
     "name": "stdout",
     "output_type": "stream",
     "text": [
      "/home/zeged/catkin_ws/src/stonefish_scene_generator/launch\n",
      "/home/zeged/catkin_ws/src/stonefish_scene_generator/src\n",
      "/home/zeged/catkin_ws/src/stonefish_scene_generator/package.xml\n",
      "/home/zeged/catkin_ws/src/stonefish_scene_generator/data\n",
      "/home/zeged/catkin_ws/src/stonefish_scene_generator/CMakeLists.txt\n"
     ]
    }
   ],
   "source": [
    "all_files_path = os.path.join(package_path,'*')\n",
    "for file_name in glob.glob(all_files_path):\n",
    "    print(file_name)"
   ]
  },
  {
   "cell_type": "markdown",
   "metadata": {},
   "source": [
    "### create data folder"
   ]
  },
  {
   "cell_type": "code",
   "execution_count": 5,
   "metadata": {},
   "outputs": [],
   "source": [
    "def create_folder(path):\n",
    "    dir_exists = os.path.isdir(path)\n",
    "    if not dir_exists:\n",
    "        os.mkdir(path)\n",
    "        print('folder created: {}'.format(path))"
   ]
  },
  {
   "cell_type": "code",
   "execution_count": 6,
   "metadata": {},
   "outputs": [],
   "source": [
    "data_folder_path = os.path.join(package_path, 'data')\n",
    "create_folder(data_folder_path)"
   ]
  },
  {
   "cell_type": "markdown",
   "metadata": {},
   "source": [
    "## generate stonefish scene"
   ]
  },
  {
   "cell_type": "markdown",
   "metadata": {},
   "source": [
    "### make a scene"
   ]
  },
  {
   "cell_type": "code",
   "execution_count": 7,
   "metadata": {},
   "outputs": [],
   "source": [
    "def make_a_scene(category, main_subject):\n",
    "    scene = None\n",
    "    title = category + '_' + main_subject\n",
    "    seabed_depth = 15\n",
    "    gen = SceneGenerator(seabed_depth)\n",
    "    gen.add_empty_frame(ColorMap.jet)\n",
    "    if main_subject == 'box':\n",
    "        gen.add_boxes()\n",
    "    else:\n",
    "        gen.add_reefs()\n",
    "    scene = gen.generate()\n",
    "    return scene"
   ]
  },
  {
   "cell_type": "markdown",
   "metadata": {},
   "source": [
    "### choose categories"
   ]
  },
  {
   "cell_type": "code",
   "execution_count": 8,
   "metadata": {},
   "outputs": [
    {
     "name": "stdout",
     "output_type": "stream",
     "text": [
      "('basic', 'box')\n",
      "/home/zeged/catkin_ws/src/stonefish_scene_generator/data/basic/box/box\n",
      "('basic', 'sphere')\n",
      "/home/zeged/catkin_ws/src/stonefish_scene_generator/data/basic/sphere/sphere\n",
      "('basic', 'cylindar')\n",
      "/home/zeged/catkin_ws/src/stonefish_scene_generator/data/basic/cylindar/cylindar\n",
      "('basic', '2019')\n",
      "/home/zeged/catkin_ws/src/stonefish_scene_generator/data/basic/2019/2019\n",
      "('basic', '2020')\n",
      "/home/zeged/catkin_ws/src/stonefish_scene_generator/data/basic/2020/2020\n"
     ]
    }
   ],
   "source": [
    "categories = []\n",
    "categories.append('basic')\n",
    "# categories.append('multiObect')\n",
    "shapes = []\n",
    "shapes.append('box')\n",
    "shapes.append('sphere')\n",
    "shapes.append('cylindar')\n",
    "reefs = ['2019', '2020']\n",
    "for reef in reefs:\n",
    "    shapes.append(reef)\n",
    "\n",
    "test = [categories, shapes]\n",
    "import itertools\n",
    "for category, main_subject in list(itertools.product(*test)):\n",
    "    print(category, main_subject)\n",
    "    # create category folder\n",
    "    category_folder_path = os.path.join(data_folder_path, category)\n",
    "    create_folder(category_folder_path)\n",
    "    # create main_subject folder\n",
    "    main_subject_folder_path = os.path.join(category_folder_path, main_subject)\n",
    "    create_folder(main_subject_folder_path)\n",
    "    # create a new scene\n",
    "    scene = make_a_scene(category, main_subject)\n",
    "    scene_file_full_path = os.path.join(main_subject_folder_path, main_subject)\n",
    "    print(scene_file_full_path)"
   ]
  },
  {
   "cell_type": "markdown",
   "metadata": {},
   "source": [
    "### generate scene"
   ]
  },
  {
   "cell_type": "code",
   "execution_count": 9,
   "metadata": {},
   "outputs": [],
   "source": [
    "title = 'basic'\n",
    "seabed_depth = 15\n",
    "gen = SceneGenerator(seabed_depth)\n",
    "gen.add_empty_frame(ColorMap.jet)\n",
    "gen.add_reefs()\n",
    "scene = gen.generate()\n",
    "# print(scene)"
   ]
  },
  {
   "cell_type": "markdown",
   "metadata": {},
   "source": [
    "### save scene to .scn file"
   ]
  },
  {
   "cell_type": "code",
   "execution_count": 10,
   "metadata": {},
   "outputs": [],
   "source": [
    "def save_scene_to_file(scene, scene_file_full_path):\n",
    "    f = open(scene_file_full_path + '.scn', \"w\")\n",
    "    f.write(scene)\n",
    "    f.close()"
   ]
  },
  {
   "cell_type": "code",
   "execution_count": 11,
   "metadata": {},
   "outputs": [],
   "source": [
    "scene_file_full_path = '/home/zeged/catkin_ws/src/stonefish_scene_generator/data/basic/2019/2019.scn'\n",
    "save_scene_to_file(scene, scene_file_full_path)"
   ]
  },
  {
   "cell_type": "markdown",
   "metadata": {},
   "source": [
    "## Simulation"
   ]
  },
  {
   "cell_type": "markdown",
   "metadata": {},
   "source": [
    "### get launch_file_path"
   ]
  },
  {
   "cell_type": "code",
   "execution_count": 12,
   "metadata": {},
   "outputs": [
    {
     "name": "stdout",
     "output_type": "stream",
     "text": [
      "/home/zeged/catkin_ws/src/stonefish_scene_generator/launch/auto_generated.launch\n"
     ]
    }
   ],
   "source": [
    "launch_file_name = 'auto_generated.launch'\n",
    "launch_file_path = os.path.join(package_path, 'launch', launch_file_name)\n",
    "print(launch_file_path)"
   ]
  },
  {
   "cell_type": "markdown",
   "metadata": {},
   "source": [
    "### edit/make launch file"
   ]
  },
  {
   "cell_type": "code",
   "execution_count": 13,
   "metadata": {},
   "outputs": [],
   "source": [
    "rate = 300.0\n",
    "resolution = (1200, 800)\n",
    "bagfile_path = os.path.join(data_folder_path, title + '.bag')\n",
    "maker = LaunchFileMaker(scene_file_full_path, rate, resolution, bagfile_path)\n",
    "maker.save_to_file(launch_file_path)"
   ]
  },
  {
   "cell_type": "markdown",
   "metadata": {},
   "source": [
    "### setup simulation"
   ]
  },
  {
   "cell_type": "code",
   "execution_count": 14,
   "metadata": {},
   "outputs": [
    {
     "name": "stdout",
     "output_type": "stream",
     "text": [
      "... logging to /home/zeged/.ros/log/95dd3948-3759-11ec-9e6f-107b448dffed/roslaunch-zeged-System-Product-Name-17374.log\n"
     ]
    }
   ],
   "source": [
    "controller = SimulationController(launch_file_path)"
   ]
  },
  {
   "cell_type": "markdown",
   "metadata": {},
   "source": [
    "### launch simulation"
   ]
  },
  {
   "cell_type": "code",
   "execution_count": 15,
   "metadata": {},
   "outputs": [
    {
     "name": "stdout",
     "output_type": "stream",
     "text": [
      "\u001b[1mstarted roslaunch server http://zeged-System-Product-Name:46331/\u001b[0m\n",
      "\n",
      "SUMMARY\n",
      "========\n",
      "\n",
      "PARAMETERS\n",
      " * /rosdistro: melodic\n",
      " * /rosversion: 1.14.11\n",
      "\n",
      "NODES\n",
      "  /\n",
      "    rosbag_record_cam (rosbag/record)\n",
      "    rviz (rviz/rviz)\n",
      "    stonefish_simulator (stonefish_ros/parsed_simulator)\n",
      "\n",
      "auto-starting new master\n",
      "\u001b[1mprocess[master]: started with pid [17435]\u001b[0m\n",
      "\u001b[1mROS_MASTER_URI=http://localhost:11311\u001b[0m\n",
      "\u001b[1msetting /run_id to 95dd3948-3759-11ec-9e6f-107b448dffed\u001b[0m\n",
      "\u001b[1mprocess[rosout-1]: started with pid [17454]\u001b[0m\n",
      "started core service [/rosout]\n",
      "\u001b[1mprocess[stonefish_simulator-2]: started with pid [17457]\u001b[0m\n",
      "\u001b[1mprocess[rviz-3]: started with pid [17462]\u001b[0m\n",
      "\u001b[1mprocess[rosbag_record_cam-4]: started with pid [17463]\u001b[0m\n",
      "[INFO] [1635361845.871930]: started\n",
      "[INFO] [1635361845.872268]: waiting for topic msg\n",
      "waiting for message\n",
      "wait is over\n",
      "rospy.get_time() - self.timer > 15\n",
      "(1635361887.03286, 1635361872.03247)\n",
      "[INFO] [1635361887.033259]: timeout: shutting down\n",
      "[rosbag_record_cam-4] killing on exit\n",
      "[rviz-3] killing on exit\n",
      "[stonefish_simulator-2] killing on exit\n",
      "[rosout-1] killing on exit\n",
      "[master] killing on exit\n"
     ]
    }
   ],
   "source": [
    "controller.run()\n",
    "controller.wait_for_ros()"
   ]
  },
  {
   "cell_type": "markdown",
   "metadata": {},
   "source": [
    "## Bag"
   ]
  },
  {
   "cell_type": "markdown",
   "metadata": {},
   "source": [
    "### open bag file"
   ]
  },
  {
   "cell_type": "code",
   "execution_count": 16,
   "metadata": {},
   "outputs": [],
   "source": [
    "import rospy\n",
    "from collections import defaultdict\n",
    "import cv2\n",
    "import numpy as np\n",
    "from cv_bridge import CvBridge"
   ]
  },
  {
   "cell_type": "markdown",
   "metadata": {},
   "source": [
    "bag = rosbag.Bag(bagfile, 'r')"
   ]
  },
  {
   "cell_type": "markdown",
   "metadata": {},
   "source": [
    "## open bag file"
   ]
  },
  {
   "cell_type": "code",
   "execution_count": 17,
   "metadata": {},
   "outputs": [],
   "source": [
    "bag = rosbag.Bag(bagfile_path, 'r')"
   ]
  },
  {
   "cell_type": "markdown",
   "metadata": {},
   "source": [
    "## create a folder for images"
   ]
  },
  {
   "cell_type": "code",
   "execution_count": 18,
   "metadata": {},
   "outputs": [
    {
     "name": "stdout",
     "output_type": "stream",
     "text": [
      "/home/zeged/catkin_ws/src/stonefish_scene_generator/data/basic\n"
     ]
    }
   ],
   "source": [
    "image_folder_path = bagfile_path.split('.')[0]\n",
    "print(image_folder_path)\n",
    "create_folder(image_folder_path)"
   ]
  },
  {
   "cell_type": "code",
   "execution_count": 19,
   "metadata": {},
   "outputs": [],
   "source": [
    "def imshow(win, img):\n",
    "    cv2.imshow(win, img)\n",
    "    cv2.waitKey(10)\n",
    "     "
   ]
  },
  {
   "cell_type": "code",
   "execution_count": 20,
   "metadata": {},
   "outputs": [],
   "source": [
    "def process_image(msg, topic):\n",
    "    bridge = CvBridge()\n",
    "    encoding = 'bgr8'\n",
    "    img = np.asarray(bridge.imgmsg_to_cv2(msg, encoding))\n",
    "    return img"
   ]
  },
  {
   "cell_type": "code",
   "execution_count": 21,
   "metadata": {},
   "outputs": [],
   "source": [
    "def process_depth(msg, topic):\n",
    "    bridge = CvBridge()\n",
    "    encoding = '32FC1'\n",
    "    img = np.asarray(bridge.imgmsg_to_cv2(msg, encoding))\n",
    "    return img"
   ]
  },
  {
   "cell_type": "code",
   "execution_count": 22,
   "metadata": {},
   "outputs": [],
   "source": [
    "def normaliaze_depth(msg):\n",
    "    cv_image_array = np.array(msg, dtype = np.dtype('f8'))\n",
    "    slice1Copy = cv_image_norm = cv2.normalize(cv_image_array, cv_image_array, 0, 1, cv2.NORM_MINMAX)\n",
    "    slice1Copy = np.uint8(slice1Copy*255)\n",
    "    return(slice1Copy)"
   ]
  },
  {
   "cell_type": "code",
   "execution_count": 23,
   "metadata": {},
   "outputs": [],
   "source": [
    "def save_image(img, filename):\n",
    "    # print(file_name)\n",
    "    cv2.imwrite(filename, img)"
   ]
  },
  {
   "cell_type": "code",
   "execution_count": 24,
   "metadata": {},
   "outputs": [
    {
     "name": "stdout",
     "output_type": "stream",
     "text": [
      "(1635361871.9354742, 'Image', '/sparus2/Blue_view_M900_FLS2/display')\n",
      "(1635361872.0287201, 'CameraInfo', '/image_depth2/camera_info')\n",
      "(1635361872.0288665, 'CameraInfo', '/camera2/image_raw/camera_info')\n",
      "(1635361872.0307686, 'Image', '/image_depth2/image_depth')\n",
      "(1635361872.031991, 'Image', '/camera2/image_raw/image_color')\n",
      "(1635361872.0865304, 'Image', '/sparus2/Blue_view_M900_FLS2/display')\n",
      "(1635361872.2027876, 'CameraInfo', '/image_depth2/camera_info')\n",
      "(1635361872.2040467, 'CameraInfo', '/camera2/image_raw/camera_info')\n",
      "(1635361872.2048695, 'Image', '/image_depth2/image_depth')\n",
      "(1635361872.2052114, 'Image', '/sparus2/Blue_view_M900_FLS2/display')\n",
      "(1635361872.2058969, 'Image', '/camera2/image_raw/image_color')\n",
      "(1635361872.262145, 'Image', '/sparus2/Blue_view_M900_FLS2/display')\n",
      "(1635361872.3791416, 'CameraInfo', '/image_depth2/camera_info')\n",
      "(1635361872.3804283, 'CameraInfo', '/camera2/image_raw/camera_info')\n",
      "(1635361872.3809626, 'Image', '/image_depth2/image_depth')\n",
      "(1635361872.381842, 'Image', '/sparus2/Blue_view_M900_FLS2/display')\n",
      "(1635361872.382433, 'Image', '/camera2/image_raw/image_color')\n",
      "(1635361872.436117, 'Image', '/sparus2/Blue_view_M900_FLS2/display')\n",
      "(1635361872.551791, 'CameraInfo', '/image_depth2/camera_info')\n",
      "(1635361872.5530047, 'CameraInfo', '/camera2/image_raw/camera_info')\n",
      "(1635361872.553415, 'Image', '/camera2/image_raw/image_color')\n",
      "(1635361872.553616, 'Image', '/image_depth2/image_depth')\n",
      "(1635361872.5544274, 'Image', '/sparus2/Blue_view_M900_FLS2/display')\n",
      "(1635361872.6098266, 'Image', '/sparus2/Blue_view_M900_FLS2/display')\n",
      "(1635361872.7257314, 'CameraInfo', '/image_depth2/camera_info')\n",
      "(1635361872.7269812, 'CameraInfo', '/camera2/image_raw/camera_info')\n",
      "(1635361872.7271054, 'Image', '/image_depth2/image_depth')\n",
      "(1635361872.7275217, 'Image', '/camera2/image_raw/image_color')\n",
      "(1635361872.7280586, 'Image', '/sparus2/Blue_view_M900_FLS2/display')\n",
      "(1635361872.8418722, 'CameraInfo', '/camera2/image_raw/camera_info')\n",
      "(1635361872.8424344, 'Image', '/camera2/image_raw/image_color')\n",
      "(1635361872.8428314, 'Image', '/sparus2/Blue_view_M900_FLS2/display')\n",
      "(1635361872.9357722, 'CameraInfo', '/image_depth2/camera_info')\n",
      "(1635361872.9370732, 'CameraInfo', '/camera2/image_raw/camera_info')\n",
      "(1635361872.9372718, 'Image', '/sparus2/Blue_view_M900_FLS2/display')\n",
      "(1635361872.9373512, 'Image', '/image_depth2/image_depth')\n",
      "(1635361872.9378216, 'Image', '/camera2/image_raw/image_color')\n",
      "(1635361873.0227904, 'Image', '/sparus2/Blue_view_M900_FLS2/display')\n",
      "(1635361873.1440027, 'CameraInfo', '/image_depth2/camera_info')\n",
      "(1635361873.1452475, 'Image', '/image_depth2/image_depth')\n",
      "(1635361873.1466777, 'CameraInfo', '/camera2/image_raw/camera_info')\n",
      "(1635361873.1476414, 'Image', '/camera2/image_raw/image_color')\n",
      "(1635361873.1488998, 'Image', '/sparus2/Blue_view_M900_FLS2/display')\n",
      "(1635361873.2276986, 'Image', '/sparus2/Blue_view_M900_FLS2/display')\n",
      "(1635361873.3478322, 'CameraInfo', '/image_depth2/camera_info')\n",
      "(1635361873.348635, 'Image', '/image_depth2/image_depth')\n",
      "(1635361873.3507795, 'CameraInfo', '/camera2/image_raw/camera_info')\n",
      "(1635361873.351094, 'Image', '/sparus2/Blue_view_M900_FLS2/display')\n",
      "(1635361873.3514562, 'Image', '/camera2/image_raw/image_color')\n",
      "(1635361873.4346302, 'Image', '/sparus2/Blue_view_M900_FLS2/display')\n",
      "(1635361873.5509212, 'CameraInfo', '/image_depth2/camera_info')\n",
      "(1635361873.5518906, 'Image', '/image_depth2/image_depth')\n",
      "(1635361873.5521646, 'CameraInfo', '/camera2/image_raw/camera_info')\n",
      "(1635361873.552888, 'Image', '/camera2/image_raw/image_color')\n",
      "(1635361873.5530593, 'Image', '/sparus2/Blue_view_M900_FLS2/display')\n",
      "(1635361873.6087599, 'Image', '/sparus2/Blue_view_M900_FLS2/display')\n",
      "(1635361873.7253354, 'CameraInfo', '/image_depth2/camera_info')\n",
      "(1635361873.7262087, 'Image', '/image_depth2/image_depth')\n",
      "(1635361873.7265248, 'CameraInfo', '/camera2/image_raw/camera_info')\n",
      "(1635361873.7272797, 'Image', '/sparus2/Blue_view_M900_FLS2/display')\n",
      "(1635361873.7273452, 'Image', '/camera2/image_raw/image_color')\n",
      "(1635361873.8442783, 'CameraInfo', '/camera2/image_raw/camera_info')\n",
      "(1635361873.8449054, 'Image', '/camera2/image_raw/image_color')\n",
      "(1635361873.8449583, 'Image', '/sparus2/Blue_view_M900_FLS2/display')\n",
      "(1635361873.9396894, 'CameraInfo', '/image_depth2/camera_info')\n",
      "(1635361873.9410963, 'CameraInfo', '/camera2/image_raw/camera_info')\n",
      "(1635361873.9417725, 'Image', '/camera2/image_raw/image_color')\n",
      "(1635361873.9424238, 'Image', '/sparus2/Blue_view_M900_FLS2/display')\n",
      "(1635361873.9426582, 'Image', '/image_depth2/image_depth')\n",
      "(1635361874.027013, 'Image', '/sparus2/Blue_view_M900_FLS2/display')\n",
      "(1635361874.1208253, 'CameraInfo', '/image_depth2/camera_info')\n",
      "(1635361874.12157, 'Image', '/image_depth2/image_depth')\n",
      "(1635361874.121651, 'CameraInfo', '/camera2/image_raw/camera_info')\n",
      "(1635361874.1222396, 'Image', '/camera2/image_raw/image_color')\n",
      "(1635361874.2374403, 'CameraInfo', '/camera2/image_raw/camera_info')\n",
      "(1635361874.2379806, 'Image', '/sparus2/Blue_view_M900_FLS2/display')\n",
      "(1635361874.2380085, 'Image', '/camera2/image_raw/image_color')\n",
      "(1635361874.328006, 'CameraInfo', '/image_depth2/camera_info')\n",
      "(1635361874.3289912, 'Image', '/image_depth2/image_depth')\n",
      "(1635361874.329565, 'CameraInfo', '/camera2/image_raw/camera_info')\n",
      "(1635361874.3298488, 'Image', '/sparus2/Blue_view_M900_FLS2/display')\n",
      "(1635361874.3304281, 'Image', '/camera2/image_raw/image_color')\n",
      "(1635361874.4453487, 'CameraInfo', '/camera2/image_raw/camera_info')\n",
      "(1635361874.4459167, 'Image', '/camera2/image_raw/image_color')\n",
      "(1635361874.4461236, 'Image', '/sparus2/Blue_view_M900_FLS2/display')\n",
      "(1635361874.5374496, 'CameraInfo', '/image_depth2/camera_info')\n",
      "(1635361874.5384588, 'Image', '/image_depth2/image_depth')\n",
      "(1635361874.5387502, 'CameraInfo', '/camera2/image_raw/camera_info')\n",
      "(1635361874.5394125, 'Image', '/camera2/image_raw/image_color')\n",
      "(1635361874.539592, 'Image', '/sparus2/Blue_view_M900_FLS2/display')\n",
      "(1635361874.5958257, 'Image', '/sparus2/Blue_view_M900_FLS2/display')\n",
      "(1635361874.7141743, 'CameraInfo', '/image_depth2/camera_info')\n",
      "(1635361874.7153606, 'Image', '/image_depth2/image_depth')\n",
      "(1635361874.7154906, 'CameraInfo', '/camera2/image_raw/camera_info')\n",
      "(1635361874.7160926, 'Image', '/camera2/image_raw/image_color')\n",
      "(1635361874.716609, 'Image', '/sparus2/Blue_view_M900_FLS2/display')\n",
      "(1635361874.7751932, 'Image', '/sparus2/Blue_view_M900_FLS2/display')\n",
      "(1635361874.898253, 'CameraInfo', '/image_depth2/camera_info')\n",
      "(1635361874.8993313, 'Image', '/image_depth2/image_depth')\n",
      "(1635361874.9010878, 'CameraInfo', '/camera2/image_raw/camera_info')\n",
      "(1635361874.9018166, 'Image', '/camera2/image_raw/image_color')\n",
      "(1635361874.9032438, 'Image', '/sparus2/Blue_view_M900_FLS2/display')\n",
      "(1635361874.9800599, 'Image', '/sparus2/Blue_view_M900_FLS2/display')\n",
      "(1635361875.1010675, 'CameraInfo', '/image_depth2/camera_info')\n",
      "(1635361875.1028192, 'Image', '/image_depth2/image_depth')\n",
      "(1635361875.1035419, 'CameraInfo', '/camera2/image_raw/camera_info')\n",
      "(1635361875.1045039, 'Image', '/sparus2/Blue_view_M900_FLS2/display')\n",
      "(1635361875.1047485, 'Image', '/camera2/image_raw/image_color')\n",
      "(1635361875.1880171, 'Image', '/sparus2/Blue_view_M900_FLS2/display')\n",
      "(1635361875.3091004, 'CameraInfo', '/image_depth2/camera_info')\n",
      "(1635361875.3099356, 'Image', '/image_depth2/image_depth')\n",
      "(1635361875.3111634, 'CameraInfo', '/camera2/image_raw/camera_info')\n",
      "(1635361875.3117704, 'Image', '/camera2/image_raw/image_color')\n",
      "(1635361875.3125038, 'Image', '/sparus2/Blue_view_M900_FLS2/display')\n",
      "(1635361875.395004, 'Image', '/sparus2/Blue_view_M900_FLS2/display')\n",
      "(1635361875.5118387, 'CameraInfo', '/image_depth2/camera_info')\n",
      "(1635361875.512923, 'CameraInfo', '/camera2/image_raw/camera_info')\n",
      "(1635361875.5133429, 'Image', '/image_depth2/image_depth')\n",
      "(1635361875.513441, 'Image', '/camera2/image_raw/image_color')\n",
      "(1635361875.5137088, 'Image', '/sparus2/Blue_view_M900_FLS2/display')\n",
      "(1635361875.5715904, 'Image', '/sparus2/Blue_view_M900_FLS2/display')\n",
      "(1635361875.6644847, 'CameraInfo', '/image_depth2/camera_info')\n",
      "(1635361875.6652975, 'Image', '/image_depth2/image_depth')\n",
      "(1635361875.6655033, 'CameraInfo', '/camera2/image_raw/camera_info')\n",
      "(1635361875.6660671, 'Image', '/camera2/image_raw/image_color')\n",
      "(1635361875.7246091, 'Image', '/sparus2/Blue_view_M900_FLS2/display')\n",
      "(1635361875.8415346, 'CameraInfo', '/image_depth2/camera_info')\n",
      "(1635361875.842886, 'CameraInfo', '/camera2/image_raw/camera_info')\n",
      "(1635361875.842939, 'Image', '/image_depth2/image_depth')\n",
      "(1635361875.8437645, 'Image', '/camera2/image_raw/image_color')\n",
      "(1635361875.844003, 'Image', '/sparus2/Blue_view_M900_FLS2/display')\n",
      "(1635361875.9007056, 'Image', '/sparus2/Blue_view_M900_FLS2/display')\n",
      "(1635361875.9947224, 'CameraInfo', '/image_depth2/camera_info')\n",
      "(1635361875.995465, 'Image', '/image_depth2/image_depth')\n",
      "(1635361875.9959452, 'CameraInfo', '/camera2/image_raw/camera_info')\n",
      "(1635361875.9963937, 'Image', '/camera2/image_raw/image_color')\n",
      "(1635361876.0522764, 'Image', '/sparus2/Blue_view_M900_FLS2/display')\n",
      "(1635361876.1677976, 'CameraInfo', '/image_depth2/camera_info')\n",
      "(1635361876.1689928, 'Image', '/image_depth2/image_depth')\n",
      "(1635361876.1690454, 'CameraInfo', '/camera2/image_raw/camera_info')\n",
      "(1635361876.1700637, 'Image', '/camera2/image_raw/image_color')\n",
      "(1635361876.170503, 'Image', '/sparus2/Blue_view_M900_FLS2/display')\n",
      "(1635361876.2844515, 'CameraInfo', '/camera2/image_raw/camera_info')\n",
      "(1635361876.284999, 'Image', '/camera2/image_raw/image_color')\n",
      "(1635361876.285177, 'Image', '/sparus2/Blue_view_M900_FLS2/display')\n",
      "(1635361876.3770618, 'CameraInfo', '/image_depth2/camera_info')\n",
      "(1635361876.3782601, 'CameraInfo', '/camera2/image_raw/camera_info')\n",
      "(1635361876.3784456, 'Image', '/image_depth2/image_depth')\n",
      "(1635361876.3787625, 'Image', '/camera2/image_raw/image_color')\n",
      "(1635361876.3790712, 'Image', '/sparus2/Blue_view_M900_FLS2/display')\n",
      "(1635361876.436872, 'Image', '/sparus2/Blue_view_M900_FLS2/display')\n",
      "(1635361876.5297587, 'CameraInfo', '/image_depth2/camera_info')\n",
      "(1635361876.5306356, 'Image', '/image_depth2/image_depth')\n",
      "(1635361876.530847, 'CameraInfo', '/camera2/image_raw/camera_info')\n",
      "(1635361876.53135, 'Image', '/camera2/image_raw/image_color')\n",
      "(1635361876.6480694, 'CameraInfo', '/camera2/image_raw/camera_info')\n",
      "(1635361876.6487095, 'Image', '/camera2/image_raw/image_color')\n",
      "(1635361876.6488168, 'Image', '/sparus2/Blue_view_M900_FLS2/display')\n",
      "(1635361876.7405431, 'CameraInfo', '/image_depth2/camera_info')\n",
      "(1635361876.7417758, 'Image', '/image_depth2/image_depth')\n",
      "(1635361876.7418418, 'CameraInfo', '/camera2/image_raw/camera_info')\n",
      "(1635361876.7422574, 'Image', '/camera2/image_raw/image_color')\n",
      "(1635361876.7422857, 'Image', '/sparus2/Blue_view_M900_FLS2/display')\n",
      "(1635361876.8589756, 'CameraInfo', '/camera2/image_raw/camera_info')\n",
      "(1635361876.8595526, 'Image', '/camera2/image_raw/image_color')\n",
      "(1635361876.8597062, 'Image', '/sparus2/Blue_view_M900_FLS2/display')\n",
      "(1635361876.9506228, 'CameraInfo', '/image_depth2/camera_info')\n",
      "(1635361876.9515138, 'Image', '/image_depth2/image_depth')\n",
      "(1635361876.9517725, 'CameraInfo', '/camera2/image_raw/camera_info')\n",
      "(1635361876.952552, 'Image', '/camera2/image_raw/image_color')\n",
      "(1635361876.9531069, 'Image', '/sparus2/Blue_view_M900_FLS2/display')\n",
      "(1635361877.0702255, 'CameraInfo', '/camera2/image_raw/camera_info')\n",
      "(1635361877.0702255, 'Image', '/camera2/image_raw/image_color')\n",
      "(1635361877.070673, 'Image', '/sparus2/Blue_view_M900_FLS2/display')\n",
      "(1635361877.1620371, 'CameraInfo', '/image_depth2/camera_info')\n",
      "(1635361877.1629431, 'Image', '/image_depth2/image_depth')\n",
      "(1635361877.1632082, 'CameraInfo', '/camera2/image_raw/camera_info')\n",
      "(1635361877.1638904, 'Image', '/camera2/image_raw/image_color')\n",
      "(1635361877.1641457, 'Image', '/sparus2/Blue_view_M900_FLS2/display')\n",
      "(1635361877.2219214, 'Image', '/sparus2/Blue_view_M900_FLS2/display')\n",
      "(1635361877.3375309, 'CameraInfo', '/image_depth2/camera_info')\n",
      "(1635361877.3385181, 'Image', '/image_depth2/image_depth')\n",
      "(1635361877.3393629, 'CameraInfo', '/camera2/image_raw/camera_info')\n",
      "(1635361877.3397875, 'Image', '/sparus2/Blue_view_M900_FLS2/display')\n",
      "(1635361877.3398852, 'Image', '/camera2/image_raw/image_color')\n",
      "(1635361877.4557924, 'CameraInfo', '/camera2/image_raw/camera_info')\n",
      "(1635361877.4563794, 'Image', '/camera2/image_raw/image_color')\n",
      "(1635361877.4564984, 'Image', '/sparus2/Blue_view_M900_FLS2/display')\n",
      "(1635361877.546937, 'CameraInfo', '/image_depth2/camera_info')\n",
      "(1635361877.5481122, 'Image', '/image_depth2/image_depth')\n",
      "(1635361877.5484366, 'CameraInfo', '/camera2/image_raw/camera_info')\n",
      "(1635361877.5490837, 'Image', '/sparus2/Blue_view_M900_FLS2/display')\n",
      "(1635361877.5491276, 'Image', '/camera2/image_raw/image_color')\n",
      "(1635361877.606853, 'Image', '/sparus2/Blue_view_M900_FLS2/display')\n",
      "(1635361877.7238114, 'CameraInfo', '/image_depth2/camera_info')\n",
      "(1635361877.7250423, 'Image', '/image_depth2/image_depth')\n",
      "(1635361877.7252707, 'CameraInfo', '/camera2/image_raw/camera_info')\n",
      "(1635361877.7259662, 'Image', '/camera2/image_raw/image_color')\n",
      "(1635361877.7262597, 'Image', '/sparus2/Blue_view_M900_FLS2/display')\n",
      "(1635361877.783046, 'Image', '/sparus2/Blue_view_M900_FLS2/display')\n",
      "(1635361877.9013572, 'CameraInfo', '/image_depth2/camera_info')\n",
      "(1635361877.9024575, 'Image', '/image_depth2/image_depth')\n",
      "(1635361877.9026287, 'CameraInfo', '/camera2/image_raw/camera_info')\n",
      "(1635361877.903572, 'Image', '/camera2/image_raw/image_color')\n",
      "(1635361877.9037156, 'Image', '/sparus2/Blue_view_M900_FLS2/display')\n",
      "(1635361877.9612856, 'Image', '/sparus2/Blue_view_M900_FLS2/display')\n",
      "(1635361878.0787408, 'CameraInfo', '/image_depth2/camera_info')\n",
      "(1635361878.0797935, 'Image', '/image_depth2/image_depth')\n",
      "(1635361878.079899, 'CameraInfo', '/camera2/image_raw/camera_info')\n",
      "(1635361878.080898, 'Image', '/sparus2/Blue_view_M900_FLS2/display')\n",
      "(1635361878.0813062, 'Image', '/camera2/image_raw/image_color')\n",
      "(1635361878.197476, 'CameraInfo', '/camera2/image_raw/camera_info')\n",
      "(1635361878.1980398, 'Image', '/camera2/image_raw/image_color')\n",
      "(1635361878.198272, 'Image', '/sparus2/Blue_view_M900_FLS2/display')\n",
      "(1635361878.2901635, 'CameraInfo', '/image_depth2/camera_info')\n",
      "(1635361878.2912438, 'CameraInfo', '/camera2/image_raw/camera_info')\n",
      "(1635361878.2913709, 'Image', '/image_depth2/image_depth')\n",
      "(1635361878.2920587, 'Image', '/camera2/image_raw/image_color')\n",
      "(1635361878.2924047, 'Image', '/sparus2/Blue_view_M900_FLS2/display')\n",
      "(1635361878.409433, 'CameraInfo', '/camera2/image_raw/camera_info')\n",
      "(1635361878.4101071, 'Image', '/camera2/image_raw/image_color')\n",
      "(1635361878.4101188, 'Image', '/sparus2/Blue_view_M900_FLS2/display')\n",
      "(1635361878.4995775, 'CameraInfo', '/image_depth2/camera_info')\n",
      "(1635361878.5005605, 'CameraInfo', '/camera2/image_raw/camera_info')\n",
      "(1635361878.5007844, 'Image', '/image_depth2/image_depth')\n",
      "(1635361878.5013647, 'Image', '/camera2/image_raw/image_color')\n",
      "(1635361878.5017254, 'Image', '/sparus2/Blue_view_M900_FLS2/display')\n",
      "(1635361878.5593548, 'Image', '/sparus2/Blue_view_M900_FLS2/display')\n",
      "(1635361878.6766155, 'CameraInfo', '/image_depth2/camera_info')\n",
      "(1635361878.6777081, 'Image', '/image_depth2/image_depth')\n",
      "(1635361878.6780472, 'CameraInfo', '/camera2/image_raw/camera_info')\n",
      "(1635361878.6787825, 'Image', '/camera2/image_raw/image_color')\n",
      "(1635361878.6788273, 'Image', '/sparus2/Blue_view_M900_FLS2/display')\n",
      "(1635361878.7341785, 'Image', '/sparus2/Blue_view_M900_FLS2/display')\n",
      "(1635361878.8540084, 'CameraInfo', '/image_depth2/camera_info')\n",
      "(1635361878.8549232, 'Image', '/image_depth2/image_depth')\n",
      "(1635361878.8573556, 'CameraInfo', '/camera2/image_raw/camera_info')\n",
      "(1635361878.857885, 'Image', '/camera2/image_raw/image_color')\n",
      "(1635361878.857967, 'Image', '/sparus2/Blue_view_M900_FLS2/display')\n",
      "(1635361878.943121, 'Image', '/sparus2/Blue_view_M900_FLS2/display')\n",
      "(1635361879.0646365, 'CameraInfo', '/image_depth2/camera_info')\n",
      "(1635361879.0654044, 'Image', '/image_depth2/image_depth')\n",
      "(1635361879.066108, 'CameraInfo', '/camera2/image_raw/camera_info')\n",
      "(1635361879.0666244, 'Image', '/camera2/image_raw/image_color')\n",
      "(1635361879.1165547, 'Image', '/sparus2/Blue_view_M900_FLS2/display')\n",
      "(1635361879.1763527, 'Image', '/sparus2/Blue_view_M900_FLS2/display')\n",
      "(1635361879.2690938, 'CameraInfo', '/image_depth2/camera_info')\n",
      "(1635361879.269851, 'Image', '/image_depth2/image_depth')\n",
      "(1635361879.2701092, 'CameraInfo', '/camera2/image_raw/camera_info')\n",
      "(1635361879.2706044, 'Image', '/camera2/image_raw/image_color')\n",
      "(1635361879.327974, 'Image', '/sparus2/Blue_view_M900_FLS2/display')\n",
      "(1635361879.4478784, 'CameraInfo', '/image_depth2/camera_info')\n",
      "(1635361879.448854, 'CameraInfo', '/camera2/image_raw/camera_info')\n",
      "(1635361879.4493988, 'Image', '/camera2/image_raw/image_color')\n",
      "(1635361879.4494665, 'Image', '/image_depth2/image_depth')\n",
      "(1635361879.4495957, 'Image', '/sparus2/Blue_view_M900_FLS2/display')\n",
      "(1635361879.5352862, 'Image', '/sparus2/Blue_view_M900_FLS2/display')\n",
      "(1635361879.6527038, 'CameraInfo', '/image_depth2/camera_info')\n",
      "(1635361879.6537523, 'Image', '/image_depth2/image_depth')\n",
      "(1635361879.6542861, 'CameraInfo', '/camera2/image_raw/camera_info')\n",
      "(1635361879.6547759, 'Image', '/camera2/image_raw/image_color')\n",
      "(1635361879.654907, 'Image', '/sparus2/Blue_view_M900_FLS2/display')\n",
      "(1635361879.71195, 'Image', '/sparus2/Blue_view_M900_FLS2/display')\n",
      "(1635361879.805649, 'CameraInfo', '/image_depth2/camera_info')\n",
      "(1635361879.8065333, 'Image', '/image_depth2/image_depth')\n",
      "(1635361879.8066733, 'CameraInfo', '/camera2/image_raw/camera_info')\n",
      "(1635361879.8072748, 'Image', '/camera2/image_raw/image_color')\n",
      "(1635361879.8658922, 'Image', '/sparus2/Blue_view_M900_FLS2/display')\n",
      "(1635361879.963262, 'CameraInfo', '/image_depth2/camera_info')\n",
      "(1635361879.9643583, 'Image', '/image_depth2/image_depth')\n",
      "(1635361879.965737, 'CameraInfo', '/camera2/image_raw/camera_info')\n",
      "(1635361879.9663055, 'Image', '/camera2/image_raw/image_color')\n",
      "(1635361880.0494697, 'Image', '/sparus2/Blue_view_M900_FLS2/display')\n",
      "(1635361880.1669438, 'CameraInfo', '/image_depth2/camera_info')\n",
      "(1635361880.168084, 'CameraInfo', '/camera2/image_raw/camera_info')\n",
      "(1635361880.168524, 'Image', '/image_depth2/image_depth')\n",
      "(1635361880.1687462, 'Image', '/camera2/image_raw/image_color')\n",
      "(1635361880.1692567, 'Image', '/sparus2/Blue_view_M900_FLS2/display')\n",
      "(1635361880.2864509, 'CameraInfo', '/camera2/image_raw/camera_info')\n",
      "(1635361880.2872157, 'Image', '/camera2/image_raw/image_color')\n",
      "(1635361880.287503, 'Image', '/sparus2/Blue_view_M900_FLS2/display')\n",
      "(1635361880.3802378, 'CameraInfo', '/image_depth2/camera_info')\n",
      "(1635361880.3811235, 'Image', '/image_depth2/image_depth')\n",
      "(1635361880.3821344, 'CameraInfo', '/camera2/image_raw/camera_info')\n",
      "(1635361880.3823962, 'Image', '/camera2/image_raw/image_color')\n",
      "(1635361880.3828182, 'Image', '/sparus2/Blue_view_M900_FLS2/display')\n",
      "(1635361880.4414113, 'Image', '/sparus2/Blue_view_M900_FLS2/display')\n",
      "(1635361880.5607285, 'CameraInfo', '/image_depth2/camera_info')\n",
      "(1635361880.561791, 'Image', '/image_depth2/image_depth')\n",
      "(1635361880.5618708, 'CameraInfo', '/camera2/image_raw/camera_info')\n",
      "(1635361880.5626435, 'Image', '/sparus2/Blue_view_M900_FLS2/display')\n",
      "(1635361880.5637794, 'Image', '/camera2/image_raw/image_color')\n",
      "(1635361880.647233, 'Image', '/sparus2/Blue_view_M900_FLS2/display')\n",
      "(1635361880.7647471, 'CameraInfo', '/image_depth2/camera_info')\n",
      "(1635361880.7656963, 'Image', '/image_depth2/image_depth')\n",
      "(1635361880.766586, 'CameraInfo', '/camera2/image_raw/camera_info')\n",
      "(1635361880.7667725, 'Image', '/sparus2/Blue_view_M900_FLS2/display')\n",
      "(1635361880.7668831, 'Image', '/camera2/image_raw/image_color')\n",
      "(1635361880.884105, 'CameraInfo', '/camera2/image_raw/camera_info')\n",
      "(1635361880.8847878, 'Image', '/sparus2/Blue_view_M900_FLS2/display')\n",
      "(1635361880.8851035, 'Image', '/camera2/image_raw/image_color')\n",
      "(1635361880.9767735, 'CameraInfo', '/image_depth2/camera_info')\n",
      "(1635361880.9777381, 'Image', '/image_depth2/image_depth')\n",
      "(1635361880.9783382, 'CameraInfo', '/camera2/image_raw/camera_info')\n",
      "(1635361880.9786098, 'Image', '/camera2/image_raw/image_color')\n",
      "(1635361880.9787004, 'Image', '/sparus2/Blue_view_M900_FLS2/display')\n",
      "(1635361881.036598, 'Image', '/sparus2/Blue_view_M900_FLS2/display')\n",
      "(1635361881.154268, 'CameraInfo', '/image_depth2/camera_info')\n",
      "(1635361881.1554585, 'CameraInfo', '/camera2/image_raw/camera_info')\n",
      "(1635361881.1555085, 'Image', '/image_depth2/image_depth')\n",
      "(1635361881.1562648, 'Image', '/camera2/image_raw/image_color')\n",
      "(1635361881.1564462, 'Image', '/sparus2/Blue_view_M900_FLS2/display')\n",
      "(1635361881.2143197, 'Image', '/sparus2/Blue_view_M900_FLS2/display')\n",
      "(1635361881.335367, 'CameraInfo', '/image_depth2/camera_info')\n",
      "(1635361881.3363104, 'Image', '/image_depth2/image_depth')\n",
      "(1635361881.337797, 'CameraInfo', '/camera2/image_raw/camera_info')\n",
      "(1635361881.3386402, 'Image', '/camera2/image_raw/image_color')\n",
      "(1635361881.339159, 'Image', '/sparus2/Blue_view_M900_FLS2/display')\n",
      "(1635361881.4176753, 'Image', '/sparus2/Blue_view_M900_FLS2/display')\n",
      "(1635361881.5336535, 'CameraInfo', '/image_depth2/camera_info')\n",
      "(1635361881.5347295, 'CameraInfo', '/camera2/image_raw/camera_info')\n",
      "(1635361881.5349662, 'Image', '/image_depth2/image_depth')\n",
      "(1635361881.535489, 'Image', '/camera2/image_raw/image_color')\n",
      "(1635361881.5355935, 'Image', '/sparus2/Blue_view_M900_FLS2/display')\n",
      "(1635361881.6513503, 'CameraInfo', '/camera2/image_raw/camera_info')\n",
      "(1635361881.6520138, 'Image', '/camera2/image_raw/image_color')\n",
      "(1635361881.6520913, 'Image', '/sparus2/Blue_view_M900_FLS2/display')\n",
      "(1635361881.7443855, 'CameraInfo', '/image_depth2/camera_info')\n",
      "(1635361881.7455273, 'Image', '/image_depth2/image_depth')\n",
      "(1635361881.7455456, 'CameraInfo', '/camera2/image_raw/camera_info')\n",
      "(1635361881.7461672, 'Image', '/camera2/image_raw/image_color')\n",
      "(1635361881.7463145, 'Image', '/sparus2/Blue_view_M900_FLS2/display')\n",
      "(1635361881.80183, 'Image', '/sparus2/Blue_view_M900_FLS2/display')\n",
      "(1635361881.9198256, 'CameraInfo', '/image_depth2/camera_info')\n",
      "(1635361881.9205902, 'Image', '/image_depth2/image_depth')\n",
      "(1635361881.9210882, 'CameraInfo', '/camera2/image_raw/camera_info')\n",
      "(1635361881.9217174, 'Image', '/camera2/image_raw/image_color')\n",
      "(1635361881.9217906, 'Image', '/sparus2/Blue_view_M900_FLS2/display')\n",
      "(1635361881.9802122, 'Image', '/sparus2/Blue_view_M900_FLS2/display')\n",
      "(1635361882.0972257, 'CameraInfo', '/image_depth2/camera_info')\n",
      "(1635361882.0984387, 'CameraInfo', '/camera2/image_raw/camera_info')\n",
      "(1635361882.098528, 'Image', '/image_depth2/image_depth')\n",
      "(1635361882.0991008, 'Image', '/camera2/image_raw/image_color')\n",
      "(1635361882.0994956, 'Image', '/sparus2/Blue_view_M900_FLS2/display')\n",
      "(1635361882.155859, 'Image', '/sparus2/Blue_view_M900_FLS2/display')\n",
      "(1635361882.2731037, 'CameraInfo', '/image_depth2/camera_info')\n",
      "(1635361882.2743573, 'Image', '/image_depth2/image_depth')\n",
      "(1635361882.2743955, 'CameraInfo', '/camera2/image_raw/camera_info')\n",
      "(1635361882.274805, 'Image', '/camera2/image_raw/image_color')\n",
      "(1635361882.275047, 'Image', '/sparus2/Blue_view_M900_FLS2/display')\n",
      "(1635361882.3923826, 'CameraInfo', '/camera2/image_raw/camera_info')\n",
      "(1635361882.3929846, 'Image', '/camera2/image_raw/image_color')\n",
      "(1635361882.3933253, 'Image', '/sparus2/Blue_view_M900_FLS2/display')\n",
      "(1635361882.4836757, 'CameraInfo', '/image_depth2/camera_info')\n",
      "(1635361882.4846754, 'Image', '/image_depth2/image_depth')\n",
      "(1635361882.4847908, 'CameraInfo', '/camera2/image_raw/camera_info')\n",
      "(1635361882.4854178, 'Image', '/camera2/image_raw/image_color')\n",
      "(1635361882.4857383, 'Image', '/sparus2/Blue_view_M900_FLS2/display')\n",
      "(1635361882.6027079, 'CameraInfo', '/camera2/image_raw/camera_info')\n",
      "(1635361882.603255, 'Image', '/camera2/image_raw/image_color')\n",
      "(1635361882.6033008, 'Image', '/sparus2/Blue_view_M900_FLS2/display')\n",
      "(1635361882.6954505, 'CameraInfo', '/image_depth2/camera_info')\n",
      "(1635361882.6964588, 'CameraInfo', '/camera2/image_raw/camera_info')\n",
      "(1635361882.696696, 'Image', '/image_depth2/image_depth')\n",
      "(1635361882.6971765, 'Image', '/camera2/image_raw/image_color')\n",
      "(1635361882.6973498, 'Image', '/sparus2/Blue_view_M900_FLS2/display')\n",
      "(1635361882.8126497, 'CameraInfo', '/camera2/image_raw/camera_info')\n",
      "(1635361882.8133154, 'Image', '/sparus2/Blue_view_M900_FLS2/display')\n",
      "(1635361882.813316, 'Image', '/camera2/image_raw/image_color')\n",
      "(1635361882.9017203, 'Image', '/image_depth2/image_depth')\n",
      "(1635361882.901794, 'CameraInfo', '/image_depth2/camera_info')\n",
      "(1635361882.9026701, 'CameraInfo', '/camera2/image_raw/camera_info')\n",
      "(1635361882.903179, 'Image', '/camera2/image_raw/image_color')\n",
      "(1635361882.9034057, 'Image', '/sparus2/Blue_view_M900_FLS2/display')\n",
      "(1635361882.9572895, 'Image', '/sparus2/Blue_view_M900_FLS2/display')\n",
      "(1635361883.0559113, 'CameraInfo', '/image_depth2/camera_info')\n",
      "(1635361883.0576756, 'Image', '/camera2/image_raw/image_color')\n",
      "(1635361883.0580587, 'Image', '/image_depth2/image_depth')\n",
      "(1635361883.0580904, 'CameraInfo', '/camera2/image_raw/camera_info')\n",
      "(1635361883.0584924, 'Image', '/sparus2/Blue_view_M900_FLS2/display')\n",
      "(1635361883.1084611, 'Image', '/sparus2/Blue_view_M900_FLS2/display')\n",
      "(1635361883.2096102, 'CameraInfo', '/image_depth2/camera_info')\n",
      "(1635361883.2108078, 'Image', '/image_depth2/image_depth')\n",
      "(1635361883.2112792, 'CameraInfo', '/camera2/image_raw/camera_info')\n",
      "(1635361883.2118912, 'Image', '/sparus2/Blue_view_M900_FLS2/display')\n",
      "(1635361883.2119346, 'Image', '/camera2/image_raw/image_color')\n",
      "(1635361883.3099618, 'CameraInfo', '/camera2/image_raw/camera_info')\n",
      "(1635361883.310499, 'Image', '/camera2/image_raw/image_color')\n",
      "(1635361883.3105197, 'Image', '/sparus2/Blue_view_M900_FLS2/display')\n",
      "(1635361883.4020631, 'CameraInfo', '/image_depth2/camera_info')\n",
      "(1635361883.4029996, 'CameraInfo', '/camera2/image_raw/camera_info')\n",
      "(1635361883.4033298, 'Image', '/image_depth2/image_depth')\n",
      "(1635361883.403543, 'Image', '/camera2/image_raw/image_color')\n",
      "(1635361883.40421, 'Image', '/sparus2/Blue_view_M900_FLS2/display')\n",
      "(1635361883.4606845, 'Image', '/sparus2/Blue_view_M900_FLS2/display')\n",
      "(1635361883.5771642, 'CameraInfo', '/image_depth2/camera_info')\n",
      "(1635361883.5781398, 'Image', '/image_depth2/image_depth')\n",
      "(1635361883.5783372, 'CameraInfo', '/camera2/image_raw/camera_info')\n",
      "(1635361883.5791893, 'Image', '/sparus2/Blue_view_M900_FLS2/display')\n",
      "(1635361883.5792303, 'Image', '/camera2/image_raw/image_color')\n",
      "(1635361883.6363916, 'Image', '/sparus2/Blue_view_M900_FLS2/display')\n",
      "(1635361883.7545583, 'CameraInfo', '/image_depth2/camera_info')\n",
      "(1635361883.7553146, 'Image', '/image_depth2/image_depth')\n",
      "(1635361883.7558117, 'CameraInfo', '/camera2/image_raw/camera_info')\n",
      "(1635361883.7562656, 'Image', '/camera2/image_raw/image_color')\n",
      "(1635361883.7566006, 'Image', '/sparus2/Blue_view_M900_FLS2/display')\n",
      "(1635361883.841273, 'Image', '/sparus2/Blue_view_M900_FLS2/display')\n",
      "(1635361883.9592752, 'CameraInfo', '/image_depth2/camera_info')\n",
      "(1635361883.9603755, 'CameraInfo', '/camera2/image_raw/camera_info')\n",
      "(1635361883.9605958, 'Image', '/image_depth2/image_depth')\n",
      "(1635361883.9610946, 'Image', '/camera2/image_raw/image_color')\n",
      "(1635361883.9614732, 'Image', '/sparus2/Blue_view_M900_FLS2/display')\n",
      "(1635361884.0176682, 'Image', '/sparus2/Blue_view_M900_FLS2/display')\n",
      "(1635361884.1111705, 'CameraInfo', '/image_depth2/camera_info')\n",
      "(1635361884.1119962, 'Image', '/image_depth2/image_depth')\n",
      "(1635361884.1123989, 'CameraInfo', '/camera2/image_raw/camera_info')\n",
      "(1635361884.1129966, 'Image', '/camera2/image_raw/image_color')\n",
      "(1635361884.1996276, 'Image', '/sparus2/Blue_view_M900_FLS2/display')\n",
      "(1635361884.3150566, 'CameraInfo', '/image_depth2/camera_info')\n",
      "(1635361884.315804, 'Image', '/image_depth2/image_depth')\n",
      "(1635361884.3160174, 'CameraInfo', '/camera2/image_raw/camera_info')\n",
      "(1635361884.3167176, 'Image', '/camera2/image_raw/image_color')\n",
      "(1635361884.316863, 'Image', '/sparus2/Blue_view_M900_FLS2/display')\n",
      "(1635361884.3730345, 'Image', '/sparus2/Blue_view_M900_FLS2/display')\n",
      "(1635361884.4668367, 'CameraInfo', '/image_depth2/camera_info')\n",
      "(1635361884.4676282, 'Image', '/image_depth2/image_depth')\n",
      "(1635361884.4677672, 'CameraInfo', '/camera2/image_raw/camera_info')\n",
      "(1635361884.468286, 'Image', '/camera2/image_raw/image_color')\n",
      "(1635361884.584694, 'CameraInfo', '/camera2/image_raw/camera_info')\n",
      "(1635361884.585371, 'Image', '/camera2/image_raw/image_color')\n",
      "(1635361884.5857143, 'Image', '/sparus2/Blue_view_M900_FLS2/display')\n",
      "(1635361884.6762435, 'CameraInfo', '/image_depth2/camera_info')\n",
      "(1635361884.677017, 'Image', '/image_depth2/image_depth')\n",
      "(1635361884.6775813, 'CameraInfo', '/camera2/image_raw/camera_info')\n",
      "(1635361884.6782882, 'Image', '/camera2/image_raw/image_color')\n",
      "(1635361884.678366, 'Image', '/sparus2/Blue_view_M900_FLS2/display')\n",
      "(1635361884.7342026, 'Image', '/sparus2/Blue_view_M900_FLS2/display')\n",
      "(1635361884.8514292, 'CameraInfo', '/image_depth2/camera_info')\n",
      "(1635361884.8524616, 'Image', '/image_depth2/image_depth')\n",
      "(1635361884.8527365, 'CameraInfo', '/camera2/image_raw/camera_info')\n",
      "(1635361884.853604, 'Image', '/camera2/image_raw/image_color')\n",
      "(1635361884.853665, 'Image', '/sparus2/Blue_view_M900_FLS2/display')\n",
      "(1635361884.9703648, 'CameraInfo', '/camera2/image_raw/camera_info')\n",
      "(1635361884.971035, 'Image', '/camera2/image_raw/image_color')\n",
      "(1635361884.9710963, 'Image', '/sparus2/Blue_view_M900_FLS2/display')\n",
      "(1635361885.0631936, 'CameraInfo', '/image_depth2/camera_info')\n",
      "(1635361885.0642042, 'Image', '/image_depth2/image_depth')\n",
      "(1635361885.0648289, 'CameraInfo', '/camera2/image_raw/camera_info')\n",
      "(1635361885.0652614, 'Image', '/camera2/image_raw/image_color')\n",
      "(1635361885.06556, 'Image', '/sparus2/Blue_view_M900_FLS2/display')\n",
      "(1635361885.1226234, 'Image', '/sparus2/Blue_view_M900_FLS2/display')\n",
      "(1635361885.2150798, 'CameraInfo', '/image_depth2/camera_info')\n",
      "(1635361885.2157784, 'Image', '/image_depth2/image_depth')\n",
      "(1635361885.216018, 'CameraInfo', '/camera2/image_raw/camera_info')\n",
      "(1635361885.216539, 'Image', '/camera2/image_raw/image_color')\n",
      "(1635361885.271798, 'Image', '/sparus2/Blue_view_M900_FLS2/display')\n",
      "(1635361885.3893445, 'CameraInfo', '/image_depth2/camera_info')\n",
      "(1635361885.3904471, 'CameraInfo', '/camera2/image_raw/camera_info')\n",
      "(1635361885.3905978, 'Image', '/image_depth2/image_depth')\n",
      "(1635361885.3911865, 'Image', '/camera2/image_raw/image_color')\n",
      "(1635361885.391542, 'Image', '/sparus2/Blue_view_M900_FLS2/display')\n",
      "(1635361885.507664, 'CameraInfo', '/camera2/image_raw/camera_info')\n",
      "(1635361885.5082865, 'Image', '/camera2/image_raw/image_color')\n",
      "(1635361885.5085387, 'Image', '/sparus2/Blue_view_M900_FLS2/display')\n",
      "(1635361885.6007402, 'CameraInfo', '/image_depth2/camera_info')\n",
      "(1635361885.6017022, 'Image', '/image_depth2/image_depth')\n",
      "(1635361885.601827, 'CameraInfo', '/camera2/image_raw/camera_info')\n",
      "(1635361885.6026196, 'Image', '/camera2/image_raw/image_color')\n",
      "(1635361885.602887, 'Image', '/sparus2/Blue_view_M900_FLS2/display')\n",
      "(1635361885.7189693, 'CameraInfo', '/camera2/image_raw/camera_info')\n",
      "(1635361885.7196817, 'Image', '/sparus2/Blue_view_M900_FLS2/display')\n",
      "(1635361885.7196887, 'Image', '/camera2/image_raw/image_color')\n",
      "(1635361885.8079085, 'CameraInfo', '/image_depth2/camera_info')\n",
      "(1635361885.8089247, 'CameraInfo', '/camera2/image_raw/camera_info')\n",
      "(1635361885.8092625, 'Image', '/image_depth2/image_depth')\n",
      "(1635361885.8095863, 'Image', '/sparus2/Blue_view_M900_FLS2/display')\n",
      "(1635361885.809653, 'Image', '/camera2/image_raw/image_color')\n",
      "(1635361885.868734, 'Image', '/sparus2/Blue_view_M900_FLS2/display')\n",
      "(1635361885.98589, 'CameraInfo', '/image_depth2/camera_info')\n",
      "(1635361885.9867246, 'Image', '/image_depth2/image_depth')\n",
      "(1635361885.9871275, 'CameraInfo', '/camera2/image_raw/camera_info')\n",
      "(1635361885.9877174, 'Image', '/camera2/image_raw/image_color')\n",
      "(1635361885.9879756, 'Image', '/sparus2/Blue_view_M900_FLS2/display')\n",
      "(1635361886.0427475, 'Image', '/sparus2/Blue_view_M900_FLS2/display')\n",
      "(1635361886.159629, 'CameraInfo', '/image_depth2/camera_info')\n",
      "(1635361886.160467, 'Image', '/image_depth2/image_depth')\n",
      "(1635361886.1615045, 'CameraInfo', '/camera2/image_raw/camera_info')\n",
      "(1635361886.1615682, 'Image', '/camera2/image_raw/image_color')\n",
      "(1635361886.1617196, 'Image', '/sparus2/Blue_view_M900_FLS2/display')\n",
      "(1635361886.2199829, 'Image', '/sparus2/Blue_view_M900_FLS2/display')\n",
      "(1635361886.3352034, 'CameraInfo', '/image_depth2/camera_info')\n",
      "(1635361886.3363097, 'CameraInfo', '/camera2/image_raw/camera_info')\n",
      "(1635361886.3365114, 'Image', '/image_depth2/image_depth')\n",
      "(1635361886.3370247, 'Image', '/camera2/image_raw/image_color')\n",
      "(1635361886.3377175, 'Image', '/sparus2/Blue_view_M900_FLS2/display')\n",
      "(1635361886.3955216, 'Image', '/sparus2/Blue_view_M900_FLS2/display')\n",
      "(1635361886.5095248, 'CameraInfo', '/image_depth2/camera_info')\n",
      "(1635361886.5104299, 'Image', '/image_depth2/image_depth')\n",
      "(1635361886.5111105, 'CameraInfo', '/camera2/image_raw/camera_info')\n",
      "(1635361886.5115104, 'Image', '/camera2/image_raw/image_color')\n",
      "(1635361886.5116723, 'Image', '/sparus2/Blue_view_M900_FLS2/display')\n",
      "(1635361886.570158, 'Image', '/sparus2/Blue_view_M900_FLS2/display')\n",
      "(1635361886.6867197, 'CameraInfo', '/image_depth2/camera_info')\n",
      "(1635361886.6877468, 'CameraInfo', '/camera2/image_raw/camera_info')\n",
      "(1635361886.6880476, 'Image', '/image_depth2/image_depth')\n",
      "(1635361886.688446, 'Image', '/sparus2/Blue_view_M900_FLS2/display')\n",
      "(1635361886.688505, 'Image', '/camera2/image_raw/image_color')\n",
      "(1635361886.8054242, 'CameraInfo', '/camera2/image_raw/camera_info')\n",
      "(1635361886.806036, 'Image', '/camera2/image_raw/image_color')\n",
      "(1635361886.806274, 'Image', '/sparus2/Blue_view_M900_FLS2/display')\n",
      "(1635361886.8973927, 'CameraInfo', '/image_depth2/camera_info')\n",
      "(1635361886.898647, 'CameraInfo', '/camera2/image_raw/camera_info')\n",
      "(1635361886.8988929, 'Image', '/image_depth2/image_depth')\n",
      "(1635361886.8993716, 'Image', '/camera2/image_raw/image_color')\n",
      "(1635361886.8997865, 'Image', '/sparus2/Blue_view_M900_FLS2/display')\n",
      "(1635361887.0165925, 'CameraInfo', '/camera2/image_raw/camera_info')\n",
      "(1635361887.0170383, 'Image', '/camera2/image_raw/image_color')\n",
      "(1635361887.0174384, 'Image', '/sparus2/Blue_view_M900_FLS2/display')\n"
     ]
    }
   ],
   "source": [
    "iterator = bag.read_messages()\n",
    "counter = defaultdict(lambda: 0)\n",
    "image_num = 0\n",
    "for topic, msg, time in iterator:\n",
    "    msg_time = rospy.Time.to_sec(time) # .to_time(time)\n",
    "    msg_type = str(type(msg)).split('__')[1].split(\"'\")[0]\n",
    "    print(msg_time, msg_type, topic)\n",
    "    counter[topic]+=1\n",
    "    if msg_type == 'CameraInfo':\n",
    "        continue\n",
    "    image_num += 1\n",
    "\n",
    "    if 'image_color' in topic or 'display' in topic:\n",
    "        bridged_image = process_image(msg, str(topic))\n",
    "        imshow(topic, bridged_image)\n",
    "        file_name = os.path.join(image_folder_path, str(image_num) + '.tif')\n",
    "        save_image(bridged_image, file_name)\n",
    "\n",
    "\n",
    "\n",
    "    elif 'image_depth2/image_depth' in topic:\n",
    "        bridged_image = process_depth(msg, str(topic))\n",
    "        norm_image = normaliaze_depth(bridged_image)\n",
    "        imshow(topic, norm_image)\n",
    "        file_name = os.path.join(image_folder_path, str(image_num) + '.tif')\n",
    "        save_image(norm_image, file_name)\n",
    "    else:\n",
    "        print(topic)\n",
    "\n",
    "cv2.destroyAllWindows()"
   ]
  },
  {
   "cell_type": "code",
   "execution_count": 25,
   "metadata": {},
   "outputs": [
    {
     "name": "stdout",
     "output_type": "stream",
     "text": [
      "defaultdict(<function <lambda> at 0x7f754844ded0>, {'/sparus2/Blue_view_M900_FLS2/display': 150, '/camera2/image_raw/image_color': 104, '/image_depth2/camera_info': 80, '/camera2/image_raw/camera_info': 104, '/image_depth2/image_depth': 80})\n"
     ]
    }
   ],
   "source": [
    "print(counter)"
   ]
  }
 ],
 "metadata": {
  "interpreter": {
   "hash": "767d51c1340bd893661ea55ea3124f6de3c7a262a8b4abca0554b478b1e2ff90"
  },
  "kernelspec": {
   "display_name": "Python 2.7.17 64-bit",
   "name": "python3"
  },
  "language_info": {
   "codemirror_mode": {
    "name": "ipython",
    "version": 2
   },
   "file_extension": ".py",
   "mimetype": "text/x-python",
   "name": "python",
   "nbconvert_exporter": "python",
   "pygments_lexer": "ipython2",
   "version": "2.7.17"
  },
  "orig_nbformat": 4
 },
 "nbformat": 4,
 "nbformat_minor": 2
}
