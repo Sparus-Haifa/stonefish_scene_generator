{
 "cells": [
  {
   "cell_type": "markdown",
   "metadata": {},
   "source": [
    "# Deepersense: sim data generator"
   ]
  },
  {
   "cell_type": "markdown",
   "metadata": {},
   "source": [
    "## imports"
   ]
  },
  {
   "cell_type": "code",
   "execution_count": 1,
   "metadata": {},
   "outputs": [],
   "source": [
    "import os\n",
    "# import sys\n",
    "import rospy\n",
    "import rosbag\n",
    "import rospkg\n",
    "import glob"
   ]
  },
  {
   "cell_type": "code",
   "execution_count": 2,
   "metadata": {},
   "outputs": [],
   "source": [
    "from simulation_controller import SimulationController\n",
    "from scene_generator import SceneGenerator, ColorMap\n",
    "from launchfile_maker import LaunchFileMaker"
   ]
  },
  {
   "cell_type": "markdown",
   "metadata": {},
   "source": [
    "## file manager"
   ]
  },
  {
   "cell_type": "markdown",
   "metadata": {},
   "source": [
    "### cwd"
   ]
  },
  {
   "cell_type": "code",
   "execution_count": 3,
   "metadata": {},
   "outputs": [],
   "source": [
    "cwd = os.getcwd()"
   ]
  },
  {
   "cell_type": "markdown",
   "metadata": {},
   "source": [
    "### package path"
   ]
  },
  {
   "cell_type": "code",
   "execution_count": 4,
   "metadata": {},
   "outputs": [],
   "source": [
    "rospack = rospkg.RosPack()\n",
    "package_path = rospack.get_path('stonefish_scene_generator')"
   ]
  },
  {
   "cell_type": "markdown",
   "metadata": {},
   "source": [
    "### iterate files in folder"
   ]
  },
  {
   "cell_type": "code",
   "execution_count": 5,
   "metadata": {},
   "outputs": [
    {
     "name": "stdout",
     "output_type": "stream",
     "text": [
      "/home/zeged/catkin_ws/src/stonefish_scene_generator/launch\n",
      "/home/zeged/catkin_ws/src/stonefish_scene_generator/src\n",
      "/home/zeged/catkin_ws/src/stonefish_scene_generator/package.xml\n",
      "/home/zeged/catkin_ws/src/stonefish_scene_generator/data\n",
      "/home/zeged/catkin_ws/src/stonefish_scene_generator/CMakeLists.txt\n"
     ]
    }
   ],
   "source": [
    "all_files_path = os.path.join(package_path,'*')\n",
    "for file_name in glob.glob(all_files_path):\n",
    "    print(file_name)"
   ]
  },
  {
   "cell_type": "markdown",
   "metadata": {},
   "source": [
    "### create data folder"
   ]
  },
  {
   "cell_type": "code",
   "execution_count": 6,
   "metadata": {},
   "outputs": [],
   "source": [
    "data_folder_path = os.path.join(package_path, 'data')\n",
    "dir_exists = os.path.isdir(data_folder_path)\n",
    "if not dir_exists:\n",
    "    os.mkdir(data_folder_path)\n",
    "    print('data folder created: {}'.format(data_folder_path))"
   ]
  },
  {
   "cell_type": "markdown",
   "metadata": {},
   "source": [
    "## generate stonefish scene"
   ]
  },
  {
   "cell_type": "markdown",
   "metadata": {},
   "source": [
    "### generate scene"
   ]
  },
  {
   "cell_type": "code",
   "execution_count": 7,
   "metadata": {},
   "outputs": [],
   "source": [
    "title = 'basic'\n",
    "seabed_depth = 15\n",
    "gen = SceneGenerator(seabed_depth)\n",
    "gen.add_empty_frame(ColorMap.jet)\n",
    "gen.add_reefs()\n",
    "scene = gen.generate()\n",
    "# print(scene)"
   ]
  },
  {
   "cell_type": "markdown",
   "metadata": {},
   "source": [
    "### save scene to .scn file"
   ]
  },
  {
   "cell_type": "code",
   "execution_count": 8,
   "metadata": {},
   "outputs": [],
   "source": [
    "scene_file_path = os.path.join(data_folder_path, title + '.scn')\n",
    "f = open(scene_file_path, \"w\")\n",
    "f.write(scene)\n",
    "f.close()"
   ]
  },
  {
   "cell_type": "markdown",
   "metadata": {},
   "source": [
    "## Simulation"
   ]
  },
  {
   "cell_type": "markdown",
   "metadata": {},
   "source": [
    "### get launch_file_path"
   ]
  },
  {
   "cell_type": "code",
   "execution_count": 9,
   "metadata": {},
   "outputs": [
    {
     "name": "stdout",
     "output_type": "stream",
     "text": [
      "/home/zeged/catkin_ws/src/stonefish_scene_generator/launch/auto_generated.launch\n"
     ]
    }
   ],
   "source": [
    "launch_file_name = 'auto_generated.launch'\n",
    "launch_file_path = os.path.join(package_path, 'launch', launch_file_name)\n",
    "print(launch_file_path)"
   ]
  },
  {
   "cell_type": "markdown",
   "metadata": {},
   "source": [
    "### edit/make launch file"
   ]
  },
  {
   "cell_type": "code",
   "execution_count": 10,
   "metadata": {},
   "outputs": [],
   "source": [
    "rate = 300.0\n",
    "resolution = (1200, 800)\n",
    "output_bagfile_path = os.path.join(data_folder_path, title + '.bag')\n",
    "maker = LaunchFileMaker(scene_file_path, rate, resolution, output_bagfile_path)\n",
    "maker.save_to_file(launch_file_path)"
   ]
  },
  {
   "cell_type": "markdown",
   "metadata": {},
   "source": [
    "### setup simulation"
   ]
  },
  {
   "cell_type": "code",
   "execution_count": 11,
   "metadata": {},
   "outputs": [
    {
     "name": "stdout",
     "output_type": "stream",
     "text": [
      "... logging to /home/zeged/.ros/log/0f6a1c1a-289e-11ec-ab87-107b448dffed/roslaunch-zeged-System-Product-Name-4341.log\n"
     ]
    }
   ],
   "source": [
    "controller = SimulationController(launch_file_path)"
   ]
  },
  {
   "cell_type": "markdown",
   "metadata": {},
   "source": [
    "### launch simulation"
   ]
  },
  {
   "cell_type": "code",
   "execution_count": 12,
   "metadata": {},
   "outputs": [],
   "source": [
    "# controller.run()\n",
    "# controller.wait_for_ros()"
   ]
  },
  {
   "cell_type": "markdown",
   "metadata": {},
   "source": [
    "## Bag"
   ]
  },
  {
   "cell_type": "markdown",
   "metadata": {},
   "source": [
    "### open bag file"
   ]
  },
  {
   "cell_type": "code",
   "execution_count": 13,
   "metadata": {},
   "outputs": [],
   "source": [
    "import rospy\n",
    "from collections import defaultdict\n",
    "import cv2\n",
    "import numpy as np\n",
    "from cv_bridge import CvBridge"
   ]
  },
  {
   "cell_type": "markdown",
   "metadata": {},
   "source": [
    "bag = rosbag.Bag(bagfile, 'r')"
   ]
  },
  {
   "cell_type": "code",
   "execution_count": 14,
   "metadata": {},
   "outputs": [
    {
     "name": "stdout",
     "output_type": "stream",
     "text": [
      "['/home/zeged/catkin_ws/src/stonefish_scene_generator/data/basic_2021-10-09-03-15-17.bag', '/home/zeged/catkin_ws/src/stonefish_scene_generator/data/basic_2021-10-09-03-11-50.bag']\n"
     ]
    }
   ],
   "source": [
    "bagfiles = glob.glob(os.path.join(data_folder_path, '*.bag'))\n",
    "print(bagfiles)\n",
    "bagfile_path = bagfiles[0]\n",
    "bag = rosbag.Bag(bagfile_path, 'r')"
   ]
  },
  {
   "cell_type": "code",
   "execution_count": 15,
   "metadata": {},
   "outputs": [],
   "source": [
    "def imshow(win, img):\n",
    "    cv2.imshow(win, img)\n",
    "    cv2.waitKey(10)\n",
    "     "
   ]
  },
  {
   "cell_type": "code",
   "execution_count": 16,
   "metadata": {},
   "outputs": [],
   "source": [
    "def process_image(msg, topic):\n",
    "    bridge = CvBridge()\n",
    "    encoding = 'bgr8'\n",
    "    img = np.asarray(bridge.imgmsg_to_cv2(msg, encoding))\n",
    "    return img"
   ]
  },
  {
   "cell_type": "code",
   "execution_count": 17,
   "metadata": {},
   "outputs": [],
   "source": [
    "def process_depth(msg, topic):\n",
    "    bridge = CvBridge()\n",
    "    encoding = '32FC1'\n",
    "    img = np.asarray(bridge.imgmsg_to_cv2(msg, encoding))\n",
    "    return img"
   ]
  },
  {
   "cell_type": "code",
   "execution_count": 18,
   "metadata": {},
   "outputs": [],
   "source": [
    "def normaliaze_depth(msg):\n",
    "    cv_image_array = np.array(msg, dtype = np.dtype('f8'))\n",
    "    slice1Copy = cv_image_norm = cv2.normalize(cv_image_array, cv_image_array, 0, 1, cv2.NORM_MINMAX)\n",
    "    slice1Copy = np.uint8(slice1Copy*255)\n",
    "    return(slice1Copy)"
   ]
  },
  {
   "cell_type": "code",
   "execution_count": 19,
   "metadata": {},
   "outputs": [
    {
     "name": "stdout",
     "output_type": "stream",
     "text": [
      "(1633738530.8430107, 'Image', '/sparus2/Blue_view_M900_FLS2/display')\n",
      "(1633738530.87811, 'CameraInfo', '/camera2/image_raw/camera_info')\n",
      "(1633738530.879607, 'Image', '/camera2/image_raw/image_color')\n",
      "(1633738530.9009678, 'CameraInfo', '/image_depth2/camera_info')\n",
      "(1633738530.9031887, 'Image', '/image_depth2/image_depth')\n"
     ]
    },
    {
     "ename": "NameError",
     "evalue": "global name 'img' is not defined",
     "output_type": "error",
     "traceback": [
      "\u001b[0;31m\u001b[0m",
      "\u001b[0;31mNameError\u001b[0mTraceback (most recent call last)",
      "\u001b[0;32m<ipython-input-19-13cfdb2506ce>\u001b[0m in \u001b[0;36m<module>\u001b[0;34m()\u001b[0m\n\u001b[1;32m     14\u001b[0m     \u001b[0;32mif\u001b[0m \u001b[0;34m'image_depth2/image_depth'\u001b[0m \u001b[0;32min\u001b[0m \u001b[0mtopic\u001b[0m\u001b[0;34m:\u001b[0m\u001b[0;34m\u001b[0m\u001b[0m\n\u001b[1;32m     15\u001b[0m         \u001b[0mbridged_image\u001b[0m \u001b[0;34m=\u001b[0m \u001b[0mprocess_depth\u001b[0m\u001b[0;34m(\u001b[0m\u001b[0mmsg\u001b[0m\u001b[0;34m,\u001b[0m \u001b[0mstr\u001b[0m\u001b[0;34m(\u001b[0m\u001b[0mtopic\u001b[0m\u001b[0;34m)\u001b[0m\u001b[0;34m)\u001b[0m\u001b[0;34m\u001b[0m\u001b[0m\n\u001b[0;32m---> 16\u001b[0;31m         \u001b[0mnorm_image\u001b[0m \u001b[0;34m=\u001b[0m \u001b[0mnormaliaze_depth\u001b[0m\u001b[0;34m(\u001b[0m\u001b[0mbridged_image\u001b[0m\u001b[0;34m)\u001b[0m\u001b[0;34m\u001b[0m\u001b[0m\n\u001b[0m\u001b[1;32m     17\u001b[0m         \u001b[0mimshow\u001b[0m\u001b[0;34m(\u001b[0m\u001b[0mtopic\u001b[0m\u001b[0;34m,\u001b[0m \u001b[0mnorm_image\u001b[0m\u001b[0;34m)\u001b[0m\u001b[0;34m\u001b[0m\u001b[0m\n\u001b[1;32m     18\u001b[0m \u001b[0;34m\u001b[0m\u001b[0m\n",
      "\u001b[0;32m<ipython-input-18-b98a8a753b3b>\u001b[0m in \u001b[0;36mnormaliaze_depth\u001b[0;34m(msg)\u001b[0m\n\u001b[1;32m      1\u001b[0m \u001b[0;32mdef\u001b[0m \u001b[0mnormaliaze_depth\u001b[0m\u001b[0;34m(\u001b[0m\u001b[0mmsg\u001b[0m\u001b[0;34m)\u001b[0m\u001b[0;34m:\u001b[0m\u001b[0;34m\u001b[0m\u001b[0m\n\u001b[0;32m----> 2\u001b[0;31m     \u001b[0mcv_image_array\u001b[0m \u001b[0;34m=\u001b[0m \u001b[0mnp\u001b[0m\u001b[0;34m.\u001b[0m\u001b[0marray\u001b[0m\u001b[0;34m(\u001b[0m\u001b[0mimg\u001b[0m\u001b[0;34m,\u001b[0m \u001b[0mdtype\u001b[0m \u001b[0;34m=\u001b[0m \u001b[0mnp\u001b[0m\u001b[0;34m.\u001b[0m\u001b[0mdtype\u001b[0m\u001b[0;34m(\u001b[0m\u001b[0;34m'f8'\u001b[0m\u001b[0;34m)\u001b[0m\u001b[0;34m)\u001b[0m\u001b[0;34m\u001b[0m\u001b[0m\n\u001b[0m\u001b[1;32m      3\u001b[0m     \u001b[0mslice1Copy\u001b[0m \u001b[0;34m=\u001b[0m \u001b[0mcv_image_norm\u001b[0m \u001b[0;34m=\u001b[0m \u001b[0mcv2\u001b[0m\u001b[0;34m.\u001b[0m\u001b[0mnormalize\u001b[0m\u001b[0;34m(\u001b[0m\u001b[0mcv_image_array\u001b[0m\u001b[0;34m,\u001b[0m \u001b[0mcv_image_array\u001b[0m\u001b[0;34m,\u001b[0m \u001b[0;36m0\u001b[0m\u001b[0;34m,\u001b[0m \u001b[0;36m1\u001b[0m\u001b[0;34m,\u001b[0m \u001b[0mcv2\u001b[0m\u001b[0;34m.\u001b[0m\u001b[0mNORM_MINMAX\u001b[0m\u001b[0;34m)\u001b[0m\u001b[0;34m\u001b[0m\u001b[0m\n\u001b[1;32m      4\u001b[0m     \u001b[0mslice1Copy\u001b[0m \u001b[0;34m=\u001b[0m \u001b[0mnp\u001b[0m\u001b[0;34m.\u001b[0m\u001b[0muint8\u001b[0m\u001b[0;34m(\u001b[0m\u001b[0mslice1Copy\u001b[0m\u001b[0;34m*\u001b[0m\u001b[0;36m255\u001b[0m\u001b[0;34m)\u001b[0m\u001b[0;34m\u001b[0m\u001b[0m\n\u001b[1;32m      5\u001b[0m     \u001b[0;32mreturn\u001b[0m\u001b[0;34m(\u001b[0m\u001b[0mslice1Copy\u001b[0m\u001b[0;34m)\u001b[0m\u001b[0;34m\u001b[0m\u001b[0m\n",
      "\u001b[0;31mNameError\u001b[0m: global name 'img' is not defined"
     ]
    }
   ],
   "source": [
    "iterator = bag.read_messages()\n",
    "counter = defaultdict(lambda: 0)\n",
    "for topic, msg, time in iterator:\n",
    "    msg_time = rospy.Time.to_sec(time) # .to_time(time)\n",
    "    msg_type = str(type(msg)).split('__')[1].split(\"'\")[0]\n",
    "    print(msg_time, msg_type, topic)\n",
    "    counter[topic]+=1\n",
    "\n",
    "    if 'image_color' in topic or 'display' in topic:\n",
    "        bridged_image = process_image(msg, str(topic))\n",
    "        imshow(topic, bridged_image)\n",
    "\n",
    "\n",
    "    if 'image_depth2/image_depth' in topic:\n",
    "        bridged_image = process_depth(msg, str(topic))\n",
    "        norm_image = normaliaze_depth(bridged_image)\n",
    "        imshow(topic, norm_image)\n",
    "\n",
    "cv2.destroyAllWindows()"
   ]
  },
  {
   "cell_type": "code",
   "execution_count": null,
   "metadata": {},
   "outputs": [
    {
     "name": "stdout",
     "output_type": "stream",
     "text": [
      "defaultdict(<function <lambda> at 0x7f006c9911d0>, {'/sparus2/Blue_view_M900_FLS2/display': 176, '/camera2/image_raw/image_color': 252, '/image_depth2/camera_info': 175, '/camera2/image_raw/camera_info': 252, '/image_depth2/image_depth': 175})\n"
     ]
    }
   ],
   "source": [
    "print(counter)"
   ]
  }
 ],
 "metadata": {
  "interpreter": {
   "hash": "767d51c1340bd893661ea55ea3124f6de3c7a262a8b4abca0554b478b1e2ff90"
  },
  "kernelspec": {
   "display_name": "Python 2.7.17 64-bit",
   "name": "python3"
  },
  "language_info": {
   "codemirror_mode": {
    "name": "ipython",
    "version": 2
   },
   "file_extension": ".py",
   "mimetype": "text/x-python",
   "name": "python",
   "nbconvert_exporter": "python",
   "pygments_lexer": "ipython2",
   "version": "2.7.17"
  },
  "orig_nbformat": 4
 },
 "nbformat": 4,
 "nbformat_minor": 2
}
