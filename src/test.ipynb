{
 "cells": [
  {
   "cell_type": "markdown",
   "source": [
    "# Deepersense: sim data generator"
   ],
   "metadata": {}
  },
  {
   "cell_type": "markdown",
   "source": [
    "## imports"
   ],
   "metadata": {}
  },
  {
   "cell_type": "code",
   "execution_count": 25,
   "source": [
    "import os\n",
    "# import sys\n",
    "# import rospy\n",
    "# import rosbag\n",
    "import rospkg\n",
    "import glob"
   ],
   "outputs": [],
   "metadata": {}
  },
  {
   "cell_type": "code",
   "execution_count": 26,
   "source": [
    "from simulation_controller import SimulationController\n",
    "from scene_generator import SceneGenerator, ColorMap\n",
    "from launchfile_maker import LaunchFileMaker"
   ],
   "outputs": [],
   "metadata": {}
  },
  {
   "cell_type": "markdown",
   "source": [
    "## file manager"
   ],
   "metadata": {}
  },
  {
   "cell_type": "markdown",
   "source": [
    "### cwd"
   ],
   "metadata": {}
  },
  {
   "cell_type": "code",
   "execution_count": 27,
   "source": [
    "cwd = os.getcwd()"
   ],
   "outputs": [],
   "metadata": {}
  },
  {
   "cell_type": "markdown",
   "source": [
    "### package path"
   ],
   "metadata": {}
  },
  {
   "cell_type": "code",
   "execution_count": 28,
   "source": [
    "rospack = rospkg.RosPack()\n",
    "package_path = rospack.get_path('stonefish_scene_generator')"
   ],
   "outputs": [],
   "metadata": {}
  },
  {
   "cell_type": "markdown",
   "source": [
    "### iterate files in folder"
   ],
   "metadata": {}
  },
  {
   "cell_type": "code",
   "execution_count": 29,
   "source": [
    "all_files_path = os.path.join(package_path,'*')\n",
    "for file_name in glob.glob(all_files_path):\n",
    "    print(file_name)"
   ],
   "outputs": [
    {
     "output_type": "stream",
     "name": "stdout",
     "text": [
      "/home/ilan/catkin_ws/src/stonefish_scene_generator/package.xml\n",
      "/home/ilan/catkin_ws/src/stonefish_scene_generator/launch\n",
      "/home/ilan/catkin_ws/src/stonefish_scene_generator/data\n",
      "/home/ilan/catkin_ws/src/stonefish_scene_generator/src\n",
      "/home/ilan/catkin_ws/src/stonefish_scene_generator/include\n",
      "/home/ilan/catkin_ws/src/stonefish_scene_generator/CMakeLists.txt\n"
     ]
    }
   ],
   "metadata": {}
  },
  {
   "cell_type": "markdown",
   "source": [
    "### create data folder"
   ],
   "metadata": {}
  },
  {
   "cell_type": "code",
   "execution_count": 30,
   "source": [
    "data_folder_path = os.path.join(package_path, 'data')\n",
    "dir_exists = os.path.isdir(data_folder_path)\n",
    "if not dir_exists:\n",
    "    os.mkdir(data_folder_path)\n",
    "    print('data folder created: {}'.format(data_folder_path))"
   ],
   "outputs": [],
   "metadata": {}
  },
  {
   "cell_type": "markdown",
   "source": [
    "## generate stonefish scene"
   ],
   "metadata": {}
  },
  {
   "cell_type": "markdown",
   "source": [
    "### generate scene"
   ],
   "metadata": {}
  },
  {
   "cell_type": "code",
   "execution_count": 31,
   "source": [
    "title = 'basic'\n",
    "seabed_depth = 15\n",
    "gen = SceneGenerator(seabed_depth)\n",
    "gen.add_empty_frame(ColorMap.jet)\n",
    "gen.add_reefs()\n",
    "scene = gen.generate()\n",
    "# print(scene)"
   ],
   "outputs": [],
   "metadata": {}
  },
  {
   "cell_type": "markdown",
   "source": [
    "### save scene to .scn file"
   ],
   "metadata": {}
  },
  {
   "cell_type": "code",
   "execution_count": 32,
   "source": [
    "scene_file_path = os.path.join(data_folder_path, title + '.scn')\n",
    "f = open(scene_file_path, \"w\")\n",
    "f.write(scene)\n",
    "f.close()"
   ],
   "outputs": [],
   "metadata": {}
  },
  {
   "cell_type": "markdown",
   "source": [
    "## Simulation"
   ],
   "metadata": {}
  },
  {
   "cell_type": "markdown",
   "source": [
    "### get launch_file_path"
   ],
   "metadata": {}
  },
  {
   "cell_type": "code",
   "execution_count": 33,
   "source": [
    "launch_file_name = 'auto_generated.launch'\n",
    "launch_file_path = os.path.join(package_path, 'launch', launch_file_name)\n",
    "print(launch_file_path)"
   ],
   "outputs": [
    {
     "output_type": "stream",
     "name": "stdout",
     "text": [
      "/home/ilan/catkin_ws/src/stonefish_scene_generator/launch/audo_generated.launch\n"
     ]
    }
   ],
   "metadata": {}
  },
  {
   "cell_type": "markdown",
   "source": [
    "### edit/make launch file"
   ],
   "metadata": {}
  },
  {
   "cell_type": "code",
   "execution_count": 34,
   "source": [
    "rate = 300.0\n",
    "resolution = (1200, 800)\n",
    "maker = LaunchFileMaker(scene_file_path, rate, resolution)\n",
    "maker.save_to_file(launch_file_path)"
   ],
   "outputs": [],
   "metadata": {}
  },
  {
   "cell_type": "markdown",
   "source": [
    "### setup simulation"
   ],
   "metadata": {}
  },
  {
   "cell_type": "code",
   "execution_count": 35,
   "source": [
    "controller = SimulationController(launch_file_path)"
   ],
   "outputs": [
    {
     "output_type": "stream",
     "name": "stdout",
     "text": [
      "... logging to /home/ilan/.ros/log/36922322-2778-11ec-ab95-a08cfdc4e9f4/roslaunch-ilan-img-ubuntu-32135.log\n"
     ]
    }
   ],
   "metadata": {}
  },
  {
   "cell_type": "markdown",
   "source": [
    "### launch simulation"
   ],
   "metadata": {}
  },
  {
   "cell_type": "code",
   "execution_count": 36,
   "source": [
    "controller.run()\n",
    "controller.wait_for_ros()"
   ],
   "outputs": [
    {
     "output_type": "stream",
     "name": "stdout",
     "text": [
      "\u001b[1mstarted roslaunch server http://ilan-img-ubuntu:37665/\u001b[0m\n",
      "\n",
      "SUMMARY\n",
      "========\n",
      "\n",
      "PARAMETERS\n",
      " * /rosdistro: melodic\n",
      " * /rosversion: 1.14.10\n",
      "\n",
      "NODES\n",
      "  /\n",
      "    rosbag_record_cam (rosbag/record)\n",
      "    rviz (rviz/rviz)\n",
      "    stonefish_simulator (stonefish_ros/parsed_simulator)\n",
      "\n",
      "auto-starting new master\n",
      "\u001b[1mprocess[master]: started with pid [4244]\u001b[0m\n",
      "\u001b[1mROS_MASTER_URI=http://localhost:11311\u001b[0m\n",
      "\u001b[1msetting /run_id to 36922322-2778-11ec-ab95-a08cfdc4e9f4\u001b[0m\n",
      "\u001b[1mprocess[rosout-13]: started with pid [4255]\u001b[0m\n",
      "started core service [/rosout]\n",
      "\u001b[1mprocess[stonefish_simulator-14]: started with pid [4262]\u001b[0m\n",
      "\u001b[1mprocess[rviz-15]: started with pid [4263]\u001b[0m\n",
      "\u001b[1mprocess[rosbag_record_cam-16]: started with pid [4269]\u001b[0m\n",
      "[INFO] [1633615781.495687]: started\n",
      "[rosbag_record_cam-16] killing on exit\n",
      "[stonefish_simulator-14] killing on exit\n",
      "[rviz-15] killing on exit\n"
     ]
    },
    {
     "output_type": "stream",
     "name": "stderr",
     "text": [
      "\u001b[31m[stonefish_simulator-14] escalating to SIGTERM\u001b[0m\n",
      "\u001b[31m[stonefish_simulator-14] escalating to SIGKILL\u001b[0m\n"
     ]
    },
    {
     "output_type": "stream",
     "name": "stdout",
     "text": [
      "[rosout-13] killing on exit\n",
      "[master] killing on exit\n"
     ]
    },
    {
     "output_type": "stream",
     "name": "stderr",
     "text": [
      "\u001b[31mShutdown errors:\n",
      " * process[stonefish_simulator-14, pid 4262]: required SIGKILL. May still be running.\u001b[0m\n"
     ]
    }
   ],
   "metadata": {}
  },
  {
   "cell_type": "markdown",
   "source": [
    "## Bag"
   ],
   "metadata": {}
  },
  {
   "cell_type": "markdown",
   "source": [
    "### open bag file"
   ],
   "metadata": {}
  },
  {
   "cell_type": "markdown",
   "source": [
    "bag = rosbag.Bag(bagfile, 'r')"
   ],
   "metadata": {}
  },
  {
   "cell_type": "code",
   "execution_count": null,
   "source": [],
   "outputs": [],
   "metadata": {}
  }
 ],
 "metadata": {
  "orig_nbformat": 4,
  "language_info": {
   "mimetype": "text/x-python",
   "nbconvert_exporter": "python",
   "name": "python",
   "pygments_lexer": "ipython2",
   "version": "2.7.17",
   "file_extension": ".py",
   "codemirror_mode": {
    "version": 2,
    "name": "ipython"
   }
  },
  "kernelspec": {
   "name": "python3",
   "display_name": "Python 2.7.17 64-bit"
  },
  "interpreter": {
   "hash": "767d51c1340bd893661ea55ea3124f6de3c7a262a8b4abca0554b478b1e2ff90"
  }
 },
 "nbformat": 4,
 "nbformat_minor": 2
}