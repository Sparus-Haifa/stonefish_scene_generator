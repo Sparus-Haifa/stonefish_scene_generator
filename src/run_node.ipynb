{
 "cells": [
  {
   "cell_type": "markdown",
   "source": [
    "<launch>\n",
    "    <arg name=\"simulation_data\" default=\"\"/> <!-- path to the data directory -->\n",
    "    <arg name=\"scenario_description\" default=\"\"/> <!-- path to the scenario description -->\n",
    "    <arg name=\"simulation_rate\" default=\"500\"/> <!-- number of simulation steps per second -->\n",
    "    <arg name=\"graphics_resolution\" default=\"1200 800\"/> <!-- resolution of the simulation window -->\n",
    "    <!--arg name=\"graphics_quality\" default=\"medium\"/--> <!-- low, medium or high -->\n",
    "    <arg name=\"graphics_quality\" default=\"high\"/> <!-- low, medium or high -->\n",
    "\n",
    "    <node name=\"stonefish_simulator\" pkg=\"stonefish_ros\" type=\"parsed_simulator\" args=\"$(arg simulation_data) $(arg scenario_description) $(arg simulation_rate) $(arg graphics_resolution) $(arg graphics_quality)\" output=\"screen\"/>\n",
    "</launch>"
   ],
   "metadata": {}
  },
  {
   "cell_type": "code",
   "execution_count": 1,
   "source": [
    "import roslaunch"
   ],
   "outputs": [],
   "metadata": {}
  },
  {
   "cell_type": "code",
   "execution_count": 20,
   "source": [
    "package = 'stonefish_ros'\n",
    "node_type = 'parsed_simulator'\n",
    "name = 'stonefish_simulator'\n",
    "output = 'screen'\n",
    "args = ['simulation_data:=\"$(find cola2_stonefish)/data\"', 'scenario_description:=\"$(find cola2_stonefish)/scenarios/sparus2_haifa_deepersense.scn\"', 'simulation_rate:=\"300.0\"', 'graphics_resolution:=\"1200 800\"', 'graphics_quality:=\"high\"']\n",
    "s = \" \".join(args)\n",
    "print(s)\n"
   ],
   "outputs": [
    {
     "output_type": "stream",
     "name": "stdout",
     "text": [
      "simulation_data:=\"$(find cola2_stonefish)/data\" scenario_description:=\"$(find cola2_stonefish)/scenarios/sparus2_haifa_deepersense.scn\" simulation_rate:=\"300.0\" graphics_resolution:=\"1200 800\" graphics_quality:=\"high\"\n"
     ]
    }
   ],
   "metadata": {}
  },
  {
   "cell_type": "code",
   "execution_count": 18,
   "source": [
    "node = roslaunch.core.Node(package, node_type, name=name, namespace='/', \n",
    "                 machine_name=None, args=s, \n",
    "                 respawn=False, respawn_delay=0.0, \n",
    "                 remap_args=None, env_args=None, output=None, cwd=None, \n",
    "                 launch_prefix=None, required=False, filename='<unknown>')"
   ],
   "outputs": [],
   "metadata": {}
  },
  {
   "cell_type": "code",
   "execution_count": 19,
   "source": [
    "launch = roslaunch.scriptapi.ROSLaunch()\n",
    "launch.start()\n",
    "process = launch.launch(node)\n",
    "print(process.is_alive())"
   ],
   "outputs": [
    {
     "output_type": "stream",
     "name": "stdout",
     "text": [
      "\u001b[1mstarted roslaunch server http://zeged-System-Product-Name:34105/\u001b[0m\n",
      "\n",
      "SUMMARY\n",
      "========\n",
      "\n",
      "PARAMETERS\n",
      " * /rosdistro: melodic\n",
      " * /rosversion: 1.14.11\n",
      "\n",
      "NODES\n",
      "\n",
      "\u001b[1mROS_MASTER_URI=http://localhost:11311\u001b[0m\n",
      "\u001b[1mprocess[stonefish_simulator-3]: started with pid [7807]\u001b[0m\n",
      "True\n"
     ]
    },
    {
     "output_type": "stream",
     "name": "stderr",
     "text": [
      "\u001b[31m[stonefish_simulator-3] process has died [pid 7807, exit code 1, cmd /home/zeged/catkin_ws/devel/lib/stonefish_ros/parsed_simulator __name:=stonefish_simulator __log:=/home/zeged/.ros/log/04b7be32-2563-11ec-95d3-107b448dffed/stonefish_simulator-3.log].\n",
      "log file: /home/zeged/.ros/log/04b7be32-2563-11ec-95d3-107b448dffed/stonefish_simulator-3*.log\u001b[0m\n"
     ]
    }
   ],
   "metadata": {}
  }
 ],
 "metadata": {
  "orig_nbformat": 4,
  "language_info": {
   "mimetype": "text/x-python",
   "nbconvert_exporter": "python",
   "name": "python",
   "pygments_lexer": "ipython2",
   "version": "2.7.17",
   "file_extension": ".py",
   "codemirror_mode": {
    "version": 2,
    "name": "ipython"
   }
  },
  "kernelspec": {
   "name": "python3",
   "display_name": "Python 2.7.17 64-bit"
  },
  "interpreter": {
   "hash": "767d51c1340bd893661ea55ea3124f6de3c7a262a8b4abca0554b478b1e2ff90"
  }
 },
 "nbformat": 4,
 "nbformat_minor": 2
}